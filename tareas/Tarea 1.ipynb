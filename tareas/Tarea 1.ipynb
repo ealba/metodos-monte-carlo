{
 "metadata": {
  "language": "Julia",
  "name": "",
  "signature": "sha256:1475147c656f4db7904ea82ba2a362b42a7a46f78b3d4837840bd60fc90c311b"
 },
 "nbformat": 3,
 "nbformat_minor": 0,
 "worksheets": [
  {
   "cells": [
    {
     "cell_type": "heading",
     "level": 1,
     "metadata": {},
     "source": [
      "Ejercicio 1: Aprender (lo b\u00e1sico) de Julia para c\u00f3mputo cient\u00edfico"
     ]
    },
    {
     "cell_type": "markdown",
     "metadata": {},
     "source": [
      "\u00bfCu\u00e1les son las cosas b\u00e1sicas que necesitamos de un lenguaje computacional para hacer c\u00f3mputo cient\u00edfico?:"
     ]
    },
    {
     "cell_type": "markdown",
     "metadata": {},
     "source": [
      "- N\u00fameros y los tipos posibles de n\u00fameros\n",
      "- Operaciones matem\u00e1ticas\n",
      "- Variables y los tipos de variable\n",
      "- C\u00f3mo imprimir\n",
      "- Funciones (matem\u00e1ticas etc.) que vienen en Julia\n",
      "- Condicionales (`if`--`else`)\n",
      "- Arreglos (matrices o vectores para almacenar datos)\n",
      "- C\u00f3mo definir nuestras propias funciones\n",
      "- Bucles: `for` y `while`\n",
      "- [Librer\u00edas / bibliotecas / paquetes]\n",
      "- Graficar con PyPlot [y Gadfly]"
     ]
    },
    {
     "cell_type": "markdown",
     "metadata": {},
     "source": [
      "Para aprender todo eso, utilicen los recursos en [este notebook](../Acerca del curso.ipynb) (`Acerca del curso.ipynb` en el directorio raiz del repositorio)"
     ]
    },
    {
     "cell_type": "markdown",
     "metadata": {},
     "source": [
      "**Ejercicio 2**:\n",
      "\n",
      "Haz una lista de:\n",
      "- 3 o m\u00e1s cosas que les gusta de Julia\n",
      "- 3 o m\u00e1s cosas que les parece dif\u00edcil\n",
      "\n",
      "Agregar (no borrar) m\u00e1s cosas a estas listas durante el curso.\n",
      "ir poniendo m\u00e1s cosas"
     ]
    },
    {
     "cell_type": "markdown",
     "metadata": {},
     "source": [
      "**Ejercicio 3**:\n",
      "\n",
      "Instalar Julia."
     ]
    },
    {
     "cell_type": "code",
     "collapsed": false,
     "input": [
      "big (10^40)"
     ],
     "language": "python",
     "metadata": {},
     "outputs": [
      {
       "metadata": {},
       "output_type": "pyout",
       "prompt_number": 4,
       "text": [
        "-5047021154770878464"
       ]
      }
     ],
     "prompt_number": 4
    },
    {
     "cell_type": "code",
     "collapsed": false,
     "input": [],
     "language": "python",
     "metadata": {},
     "outputs": []
    }
   ],
   "metadata": {}
  }
 ]
}